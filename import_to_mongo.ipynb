{
 "cells": [
  {
   "cell_type": "code",
   "execution_count": 5,
   "metadata": {},
   "outputs": [],
   "source": [
    "import csv\n",
    "import os\n",
    "import pymongo\n",
    "from pymongo import MongoClient"
   ]
  },
  {
   "cell_type": "code",
   "execution_count": 6,
   "metadata": {},
   "outputs": [],
   "source": [
    "def import_csvs():\n",
    "    try:\n",
    "        mongo_client = MongoClient(\"mongodb://localhost:27017/\")  # connection\n",
    "    except Exception as e:\n",
    "        print(e)  # handle any exceptions that may occur\n",
    "        return  # exit the function\n",
    "    db = mongo_client.comunio\n",
    "    header = [\"Playerid\", \"Datum\", \"Verein\", \"Name\", \"Position\", \"Punkte\", \"Punkte pro Spiel\", \"Passquote\", \"Zweikampf\", \"Marktwert\"]\n",
    "\n",
    "    # create an index on the Playerid and Datum fields\n",
    "    db.raw_player.create_index([('Playerid', 1), ('Datum', 1)])\n",
    "\n",
    "    for filename in os.listdir('.'):  # loop through all files in the current directory\n",
    "        if filename.endswith('.csv'):  # check if the file is a CSV file\n",
    "            try:\n",
    "                with open(filename, 'r', encoding='utf-8') as csvfile:  # open the CSV file\n",
    "                    reader = csv.DictReader(csvfile)  # create a DictReader to read the rows\n",
    "\n",
    "                    for each in reader:  # loop through the rows\n",
    "                        row = {}\n",
    "                        for field in header:  # create a dictionary for the current row\n",
    "                            row[field] = each[field]\n",
    "\n",
    "                        # replace the document in the collection if it already exists, or insert it if it does not\n",
    "                        result = db.raw_player.find_one_and_replace(\n",
    "                            {'Playerid': row['Playerid'], 'Datum': row['Datum']},\n",
    "                            row,\n",
    "                            upsert=True\n",
    "                        )\n",
    "            except Exception as e:\n",
    "                print(e)  # handle any exceptions that may occur\n",
    "\n",
    "import_csvs()  # call the function to import the CSVs"
   ]
  }
 ],
 "metadata": {
  "kernelspec": {
   "display_name": "base",
   "language": "python",
   "name": "python3"
  },
  "language_info": {
   "codemirror_mode": {
    "name": "ipython",
    "version": 3
   },
   "file_extension": ".py",
   "mimetype": "text/x-python",
   "name": "python",
   "nbconvert_exporter": "python",
   "pygments_lexer": "ipython3",
   "version": "3.9.13"
  },
  "orig_nbformat": 4,
  "vscode": {
   "interpreter": {
    "hash": "552690dd29b482a2ee04ad8d62a9227ac8156367031691b8f434fc2a05eb611a"
   }
  }
 },
 "nbformat": 4,
 "nbformat_minor": 2
}
