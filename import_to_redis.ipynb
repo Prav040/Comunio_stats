{
 "cells": [
  {
   "cell_type": "code",
   "execution_count": 9,
   "metadata": {},
   "outputs": [
    {
     "name": "stderr",
     "output_type": "stream",
     "text": [
      "C:\\Users\\SPrav\\AppData\\Local\\Temp\\ipykernel_17156\\286022391.py:25: DeprecationWarning: Redis.hmset() is deprecated. Use Redis.hset() instead.\n",
      "  r.hmset(key, row)\n"
     ]
    }
   ],
   "source": [
    "import csv\n",
    "import os\n",
    "import redis\n",
    "\n",
    "# Connect to Redis\n",
    "r = redis.Redis(host='localhost', port=6379, db=0)\n",
    "\n",
    "# Loop through all files in the specified directory\n",
    "for filename in os.listdir('.'):\n",
    "    if filename.endswith('.csv'):  # check if the file is a CSV file\n",
    "        # Open the CSV file\n",
    "        with open(filename, 'r', encoding='utf-8') as csvfile:\n",
    "            reader = csv.DictReader(csvfile)  # create a DictReader to read the rows\n",
    "\n",
    "            # Loop through the rows in the CSV file\n",
    "            for row in reader:\n",
    "                # Store the Player_id and Datum fields as the key for the hash object\n",
    "                key = f\"{row['Playerid']}:{row['Datum']}\"\n",
    "\n",
    "                # Remove the Player_id and Datum fields from the row\n",
    "                del row['Playerid']\n",
    "                del row['Datum']\n",
    "\n",
    "                # Store the remaining fields as the values for the hash object\n",
    "                r.hmset(key, row)"
   ]
  },
  {
   "cell_type": "code",
   "execution_count": 6,
   "metadata": {},
   "outputs": [
    {
     "name": "stdout",
     "output_type": "stream",
     "text": [
      "The key exists in Redis\n"
     ]
    }
   ],
   "source": [
    "# Check if a key exists in Redis\n",
    "if r.exists('key'):\n",
    "    print('The key exists in Redis')\n",
    "else:\n",
    "    print('The key does not exist in Redis')"
   ]
  },
  {
   "cell_type": "code",
   "execution_count": 11,
   "metadata": {},
   "outputs": [
    {
     "name": "stdout",
     "output_type": "stream",
     "text": [
      "{b'Verein': b'Eintrach Frankfurt', b'Name': b'Loune', b'Position': b'Mittelfeld', b'Punkte': b'0', b'Punkte pro Spiel': b'-', b'Passquote': b'-', b'Zweikampf': b'-', b'Marktwert': b'200000'}\n"
     ]
    }
   ],
   "source": [
    "# Specify the key of the hash object\n",
    "key = \"33585:23/12/2022\"\n",
    "\n",
    "# Get the values for the hash object\n",
    "values = r.hgetall(key)\n",
    "\n",
    "# Print the values\n",
    "print(values)"
   ]
  }
 ],
 "metadata": {
  "kernelspec": {
   "display_name": "base",
   "language": "python",
   "name": "python3"
  },
  "language_info": {
   "codemirror_mode": {
    "name": "ipython",
    "version": 3
   },
   "file_extension": ".py",
   "mimetype": "text/x-python",
   "name": "python",
   "nbconvert_exporter": "python",
   "pygments_lexer": "ipython3",
   "version": "3.9.13 (main, Aug 25 2022, 23:51:50) [MSC v.1916 64 bit (AMD64)]"
  },
  "orig_nbformat": 4,
  "vscode": {
   "interpreter": {
    "hash": "552690dd29b482a2ee04ad8d62a9227ac8156367031691b8f434fc2a05eb611a"
   }
  }
 },
 "nbformat": 4,
 "nbformat_minor": 2
}
