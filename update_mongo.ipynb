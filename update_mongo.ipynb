{
 "cells": [
  {
   "cell_type": "code",
   "execution_count": 52,
   "metadata": {},
   "outputs": [],
   "source": [
    "import pymongo\n",
    "\n",
    "# Verbindung zur MongoDB-Instanz herstellen\n",
    "client = pymongo.MongoClient(\"mongodb://localhost:27017/\")\n",
    "\n",
    "# Datenbank auswählen\n",
    "db = client[\"comunio\"]\n",
    "\n",
    "# Collection auswählen\n",
    "raw_player_collection = db[\"raw_player\"]"
   ]
  },
  {
   "cell_type": "code",
   "execution_count": 54,
   "metadata": {},
   "outputs": [],
   "source": [
    "# Erstelle eine Aggregation, um die Dokumente nach \"Playerid\" zu gruppieren und das \"Datum\" und \"Marktwert\" für jedes Dokument zu extrahieren\n",
    "pipeline = [\n",
    "  {\"$group\": {\n",
    "    \"_id\": \"$Playerid\",\n",
    "    \"dates\": {\"$push\": \"$Datum\"},\n",
    "    \"market_values\": {\"$push\": \"$Marktwert\"}\n",
    "  }}\n",
    "]\n",
    "\n",
    "# Führe die Aggregation aus und speichere das Ergebnis in einer Variablen\n",
    "aggregate_result = raw_player_collection.aggregate(pipeline)\n",
    "\n",
    "# Wähle die Sammlung \"player_mw\" aus, in die du die zusammengefassten Daten schreiben möchtest\n",
    "player_mw_collection = db[\"player_mw\"]\n",
    "\n",
    "\n",
    "# Verwende eine Schleife, um die Ergebnisse der Aggregation zu durchlaufen und die Daten in die Sammlung zu schreiben\n",
    "for result in aggregate_result:\n",
    "  player_id = result[\"_id\"]\n",
    "  dates = result[\"dates\"]\n",
    "  market_values = result[\"market_values\"]\n",
    "  \n",
    "  player_mw_collection.update_one({\"Playerid\": player_id}, {\"$set\": {\"Dates\": dates, \"MarketValues\": market_values}}, upsert=True)"
   ]
  },
  {
   "cell_type": "code",
   "execution_count": null,
   "metadata": {},
   "outputs": [],
   "source": []
  }
 ],
 "metadata": {
  "kernelspec": {
   "display_name": "base",
   "language": "python",
   "name": "python3"
  },
  "language_info": {
   "codemirror_mode": {
    "name": "ipython",
    "version": 3
   },
   "file_extension": ".py",
   "mimetype": "text/x-python",
   "name": "python",
   "nbconvert_exporter": "python",
   "pygments_lexer": "ipython3",
   "version": "3.9.13"
  },
  "orig_nbformat": 4,
  "vscode": {
   "interpreter": {
    "hash": "552690dd29b482a2ee04ad8d62a9227ac8156367031691b8f434fc2a05eb611a"
   }
  }
 },
 "nbformat": 4,
 "nbformat_minor": 2
}
