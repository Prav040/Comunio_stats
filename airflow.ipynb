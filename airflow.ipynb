{
 "cells": [
  {
   "cell_type": "code",
   "execution_count": 7,
   "metadata": {},
   "outputs": [],
   "source": [
    "from airflow import DAG\n",
    "from airflow.operators.python import PythonOperator\n",
    "from datetime import datetime, timedelta\n",
    "import numpy as np\n",
    "import pandas as pd\n",
    "import requests\n",
    "from bs4 import BeautifulSoup\n",
    "from glob import *\n"
   ]
  },
  {
   "cell_type": "code",
   "execution_count": 8,
   "metadata": {},
   "outputs": [
    {
     "data": {
      "text/html": [
       "<pre style=\"white-space:pre;overflow-x:auto;line-height:normal;font-family:Menlo,'DejaVu Sans Mono',consolas,'Courier New',monospace\"><span style=\"color: #808000; text-decoration-color: #808000; font-weight: bold\">C:\\Users\\SPrav\\AppData\\Local\\Temp\\ipykernel_12196\\</span><span style=\"color: #808000; text-decoration-color: #808000; font-weight: bold\">4159341032.</span><span style=\"color: #808000; text-decoration-color: #808000; font-weight: bold\">py:</span><span style=\"color: #808000; text-decoration-color: #808000; font-weight: bold\">9</span><span style=\"color: #808000; text-decoration-color: #808000; font-weight: bold\"> RemovedInAirflow3Warning</span><span style=\"color: #808000; text-decoration-color: #808000\">: Param `schedule_interval` is deprecated and will be removed in a future release. Please use `schedule` instead.</span>\n",
       "</pre>\n"
      ],
      "text/plain": [
       "\u001b[1;33mC:\\Users\\SPrav\\AppData\\Local\\Temp\\ipykernel_12196\\\u001b[0m\u001b[1;33m4159341032.\u001b[0m\u001b[1;33mpy:\u001b[0m\u001b[1;33m9\u001b[0m\u001b[1;33m RemovedInAirflow3Warning\u001b[0m\u001b[33m: Param `schedule_interval` is deprecated and will be removed in a future release. Please use `schedule` instead.\u001b[0m\n"
      ]
     },
     "metadata": {},
     "output_type": "display_data"
    }
   ],
   "source": [
    "default_args = {\n",
    "    'owner': 'me',\n",
    "    'start_date': datetime(2022, 1, 1),\n",
    "    'depends_on_past': False,\n",
    "    'retries': 1,\n",
    "    'retry_delay': timedelta(minutes=5),\n",
    "}\n",
    "\n",
    "dag = DAG(\n",
    "    'scrape_comunio_stats',\n",
    "    default_args=default_args,\n",
    "    schedule_interval=timedelta(hours=1),\n",
    ")"
   ]
  },
  {
   "cell_type": "code",
   "execution_count": null,
   "metadata": {},
   "outputs": [],
   "source": []
  },
  {
   "cell_type": "code",
   "execution_count": 10,
   "metadata": {},
   "outputs": [],
   "source": [
    "def scrap_comunio_stats(**context):\n",
    "    mydict = {\n",
    "    \"FC Bayern München\" : \"1-FC+Bayern+München\",\n",
    "    \"Borussia Dortmund\" : \"5-Borussia+Dortmund\",\n",
    "    \"Bayer Leverkusen\" : \"8-Bayer+04+Leverkusen\",\n",
    "    \"RB Leipzig\" : \"92-RB+Leipzig\",\n",
    "    \"FC Union Berlin\" : \"109-1.+FC+Union+Berlin\",\n",
    "    \"SC Freiburg\" : \"21-Sport-Club+Freiburg\",\n",
    "    \"FC Köln\" : \"13-1.+FC+Köln\",\n",
    "    \"FSV Mainz 05\" : \"18-1.+FSV+Mainz+05\",\n",
    "    \"TSG Hoffenheim\" : \"62-TSG+Hoffenheim\",\n",
    "    \"Borussioa M'Gladbach\" : \"3-Borussia+M'gladbach\",\n",
    "    \"Eintrach Frankfurt\" : \"9-Eintracht+Frankfurt\",\n",
    "    \"VfL Wolfsburg\" : \"12-VfL+Wolfsburg\",\n",
    "    \"VfL Bochum\" : \"15-VfL+Bochum\",\n",
    "    \"FC Augsburg\" : \"68-FC+Augsburg\",\n",
    "    \"VfB Stuttgart\" : \"14-VfB+Stuttgart\",\n",
    "    \"Hertha BSC\" : \"7-Hertha+BSC\",\n",
    "    \"FC Schalke 04\" : \"10-FC+Schalke+04\",\n",
    "    \"SV Werder Bremen\" : \"6-SV+Werder+Bremen\"\n",
    "    }\n",
    "\n",
    "    global playerid, playername, position, punkte, pps, passq, zweikampf, marktwert, verein\n",
    "\n",
    "    playerid = []\n",
    "    playername = []\n",
    "    position = []\n",
    "    punkte = []\n",
    "    pps = []\n",
    "    passq = []\n",
    "    zweikampf = []\n",
    "    marktwert= []\n",
    "    verein = []\n",
    "    datum = []\n",
    "\n",
    "\n",
    "    def scrap(scripts, team):\n",
    "        for i in range(9,len(scripts)-13):\n",
    "            playerid.append(str(scripts[i]).split('data-playerid=\"')[1].split('\">')[0])\n",
    "            playername.append(str(scripts[i]).split('\"_blank\">')[1].split('</a><')[0])\n",
    "            position.append(str(scripts[i]).split('title=\"')[1].split('\"/><')[0])\n",
    "            punkte.append(str(scripts[i]).split('<td class=\"base\"')[1].split('<td>')[1].split('</td>')[0])\n",
    "            pps.append(str(scripts[i]).split('<td class=\"base\"')[1].split('td class=\"extended\">')[2].split('</td>')[0])\n",
    "            passq.append(str(scripts[i]).split('<td class=\"base\"')[1].split('td class=\"extended\">')[4].split('</td>')[0])\n",
    "            zweikampf.append(str(scripts[i]).split('<td class=\"base\"')[1].split('td class=\"extended\">')[5].split('</td>')[0])\n",
    "            marktwert.append(str(scripts[i]).split('data-value=\"')[1].split('\"><span')[0])\n",
    "            verein.append(team)\n",
    "            datum.append(date.today().strftime(\"%d/%m/%Y\"))\n",
    "\n",
    "    \n",
    "    for x in mydict:\n",
    "        team = x\n",
    "\n",
    "\n",
    "    base_url = 'https://stats.comunio.de/squad/' + mydict[x]\n",
    "    res = requests.get(base_url)\n",
    "    soup = BeautifulSoup(res.content, 'lxml')\n",
    "    scripts = soup.find_all('tr')\n",
    "    scrap(scripts, team)\n",
    "\n",
    "    df = pd.DataFrame(playerid, columns=['Playerid'])\n",
    "    df['Datum'] = pd.Series(datum)\n",
    "    df['Verein'] = pd.Series(verein)\n",
    "    df['Name'] = pd.Series(playername)\n",
    "    df['Position'] = pd.Series(position)\n",
    "    df['Punkte'] = pd.Series(punkte)\n",
    "    df['Punkte pro Spiel'] = pd.Series(pps)\n",
    "    df['Passquote'] = pd.Series(passq)\n",
    "    df['Zweikampf'] = pd.Series(zweikampf)\n",
    "    df['Marktwert'] = pd.Series(marktwert)\n",
    "\n",
    "    tag = date.today().strftime('%d/%m/%Y')\n",
    "    tag = tag.replace(\"/\", \"_\")\n",
    "\n",
    "    df.to_csv(str(tag) + \".csv\", index=False)\n",
    "\n",
    "        "
   ]
  },
  {
   "cell_type": "code",
   "execution_count": 12,
   "metadata": {},
   "outputs": [
    {
     "data": {
      "text/plain": [
       "<Task(PythonOperator): comunio_scraper>"
      ]
     },
     "execution_count": 12,
     "metadata": {},
     "output_type": "execute_result"
    }
   ],
   "source": [
    "task = PythonOperator(\n",
    "    task_id='comunio_scraper',  # ID der Aufgabe\n",
    "    python_callable=scrap_comunio_stats,  # Funktion, die ausgeführt werden soll\n",
    "    dag=dag,  # DAG, zu dem die Aufgabe gehört\n",
    ")\n",
    "\n",
    "task"
   ]
  }
 ],
 "metadata": {
  "kernelspec": {
   "display_name": "base",
   "language": "python",
   "name": "python3"
  },
  "language_info": {
   "codemirror_mode": {
    "name": "ipython",
    "version": 3
   },
   "file_extension": ".py",
   "mimetype": "text/x-python",
   "name": "python",
   "nbconvert_exporter": "python",
   "pygments_lexer": "ipython3",
   "version": "3.9.13"
  },
  "orig_nbformat": 4,
  "vscode": {
   "interpreter": {
    "hash": "552690dd29b482a2ee04ad8d62a9227ac8156367031691b8f434fc2a05eb611a"
   }
  }
 },
 "nbformat": 4,
 "nbformat_minor": 2
}
